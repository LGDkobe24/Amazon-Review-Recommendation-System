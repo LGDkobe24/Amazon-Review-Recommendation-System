{
 "cells": [
  {
   "cell_type": "markdown",
   "metadata": {},
   "source": [
    "# Project Design Writeup and Approval Template\n",
    "\n",
    "### Project Problem and Hypothesis\n",
    "\n",
    "Amazon is both one of the largest online retailers of consumer goods and largest source of Internet consumer reviews. Users can submit reviews for any product, and they must rate the product on a rating scale from one to five stars. Amazon needs to classify reviews for its Fine Food category as positive, negative, or neutral. These groupings help customers when making a purchase selection. Furthermore, Amazon needs to ensure its score rating system is standardized for all users. A score of five for one user should reflect the same quality as a five from another user. \n",
    "\n",
    "My project is to 1) determine whether a computer can accurately automate the classification of review sentiment, and 2) Explore biases among users in reviewing the same product. This project will be a combination of supervised learning (sentiment analysis and regression), and unsupervised clustering.\n",
    "\n",
    "The impact of accurately predicting sentiment would automate review classifcation and make the review process more efficient for Amazon. Exploring biases among users may produce new questions for Amazon on how to improve the review system to be more standardized.\n",
    "\n",
    "### Datasets\n",
    "I am using the Amazon Fine Food Reviews dataset from Kaggle that consists of 568,454 food reviews Amazon users left up to October 2012. Features include product id, user ratings, helpfulness score, timestamp, review summary, and review text.\n",
    "\n",
    "### Domain knowledge\n",
    "I have found previous studies on predicting helpfulness scores for Amazon reviews and predicting the rating of an Amazon review based on the sentiment. There are also kernels on Kaggle from users trying to build models that predict the sentiment of reviews as positive/negative/neutral. The best predictive model of review sentiment submitted on Kaggle has an AUC value of 0.83 using a logistic regression.\n",
    "\n",
    "### Project Concerns\n",
    "I still need to determine the best way to sample the dataset for this project. While I will need to build the sentiment classification model based on review data from a variety of users, I will need to select a few products with a large number of reviews to explore biases. I will also need to do a lot of self-learning to understand how to do sentiment analysis and clustering for this project.\n",
    "\n",
    "The dataset I am using is specifically from Fine Foods reviews, so my model may reflect biases unique to Fine Food reviews, and therefore users who choose to Fine Foods. My model may not be applicable to other kinds of products.\n",
    "\n",
    "I am not aware of how Amazon determines what makes a product a \"Fine Food\", compared to other food products. The way in Amazon classifies products as Fine Foods may also create a bias in my data.\n",
    "\n",
    "### Outcomes\n",
    "Success from this project would be to accurately predict the sentiment of a review as positive, negative, or neutral. Given that the best AUC value in predicting sentiment on Kaggle is currently 0.83, success for me would be to create a model with a higher AUC. I also expect that there are no biases among users in reviewing Fine Food products.\n"
   ]
  }
 ],
 "metadata": {
  "kernelspec": {
   "display_name": "Python [Root]",
   "language": "python",
   "name": "Python [Root]"
  },
  "language_info": {
   "codemirror_mode": {
    "name": "ipython",
    "version": 2
   },
   "file_extension": ".py",
   "mimetype": "text/x-python",
   "name": "python",
   "nbconvert_exporter": "python",
   "pygments_lexer": "ipython2",
   "version": "2.7.11"
  }
 },
 "nbformat": 4,
 "nbformat_minor": 0
}
