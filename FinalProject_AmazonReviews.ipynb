{
 "cells": [
  {
   "cell_type": "markdown",
   "metadata": {},
   "source": [
    "## Predicting the Helpfulness of Amazon Fine Food Reviews"
   ]
  },
  {
   "cell_type": "markdown",
   "metadata": {},
   "source": [
    "### Purpose"
   ]
  },
  {
   "cell_type": "markdown",
   "metadata": {},
   "source": [
    "Build a model to predict the helpfulness of Amazon Fine Food Reviews. This will improve Amazon's selection of helpful reviews at the top of the review section and improve customer's purchasing decisions. It could also help other reviewers as a guide to writing helpful reviews.\n",
    "\n",
    "This dataset comes from over 568,0454 Amazon Fine Food Reviews. "
   ]
  },
  {
   "cell_type": "markdown",
   "metadata": {
    "collapsed": true
   },
   "source": [
    "Variable | Description | Type of Variable\n",
    "---| ---| ---\n",
    "HelpfulnessNumerator | number of users who found the review helpful | continuous\n",
    "HelpfulnessDenominator | number of users who indicated whether they found the review helpful or not helpful | continuous\n",
    "Score | rating between 1 and 5 | categorical\n",
    "Text | text of the review | text"
   ]
  },
  {
   "cell_type": "markdown",
   "metadata": {},
   "source": [
    "## Load the Data"
   ]
  },
  {
   "cell_type": "code",
   "execution_count": 1,
   "metadata": {
    "collapsed": true
   },
   "outputs": [],
   "source": [
    "#imports\n",
    "import pandas as pd\n",
    "import numpy as np\n",
    "import matplotlib.pyplot as plt\n",
    "%matplotlib inline"
   ]
  },
  {
   "cell_type": "code",
   "execution_count": 2,
   "metadata": {
    "collapsed": false
   },
   "outputs": [
    {
     "data": {
      "text/html": [
       "<div>\n",
       "<table border=\"1\" class=\"dataframe\">\n",
       "  <thead>\n",
       "    <tr style=\"text-align: right;\">\n",
       "      <th></th>\n",
       "      <th>HelpfulnessNumerator</th>\n",
       "      <th>HelpfulnessDenominator</th>\n",
       "      <th>Score</th>\n",
       "      <th>Text</th>\n",
       "    </tr>\n",
       "    <tr>\n",
       "      <th>Id</th>\n",
       "      <th></th>\n",
       "      <th></th>\n",
       "      <th></th>\n",
       "      <th></th>\n",
       "    </tr>\n",
       "  </thead>\n",
       "  <tbody>\n",
       "    <tr>\n",
       "      <th>1</th>\n",
       "      <td>1</td>\n",
       "      <td>1</td>\n",
       "      <td>5</td>\n",
       "      <td>I have bought several of the Vitality canned d...</td>\n",
       "    </tr>\n",
       "    <tr>\n",
       "      <th>2</th>\n",
       "      <td>0</td>\n",
       "      <td>0</td>\n",
       "      <td>1</td>\n",
       "      <td>Product arrived labeled as Jumbo Salted Peanut...</td>\n",
       "    </tr>\n",
       "    <tr>\n",
       "      <th>3</th>\n",
       "      <td>1</td>\n",
       "      <td>1</td>\n",
       "      <td>4</td>\n",
       "      <td>This is a confection that has been around a fe...</td>\n",
       "    </tr>\n",
       "    <tr>\n",
       "      <th>4</th>\n",
       "      <td>3</td>\n",
       "      <td>3</td>\n",
       "      <td>2</td>\n",
       "      <td>If you are looking for the secret ingredient i...</td>\n",
       "    </tr>\n",
       "    <tr>\n",
       "      <th>5</th>\n",
       "      <td>0</td>\n",
       "      <td>0</td>\n",
       "      <td>5</td>\n",
       "      <td>Great taffy at a great price.  There was a wid...</td>\n",
       "    </tr>\n",
       "  </tbody>\n",
       "</table>\n",
       "</div>"
      ],
      "text/plain": [
       "    HelpfulnessNumerator  HelpfulnessDenominator  Score  \\\n",
       "Id                                                        \n",
       "1                      1                       1      5   \n",
       "2                      0                       0      1   \n",
       "3                      1                       1      4   \n",
       "4                      3                       3      2   \n",
       "5                      0                       0      5   \n",
       "\n",
       "                                                 Text  \n",
       "Id                                                     \n",
       "1   I have bought several of the Vitality canned d...  \n",
       "2   Product arrived labeled as Jumbo Salted Peanut...  \n",
       "3   This is a confection that has been around a fe...  \n",
       "4   If you are looking for the secret ingredient i...  \n",
       "5   Great taffy at a great price.  There was a wid...  "
      ]
     },
     "execution_count": 2,
     "metadata": {},
     "output_type": "execute_result"
    }
   ],
   "source": [
    "# read data into a DataFrame\n",
    "data = pd.read_csv('Reviews.csv', index_col=0)\n",
    "\n",
    "#make a copy of columns I need from raw data\n",
    "df1 = data.iloc[:, [3,4,5,8]]\n",
    "df1.head()"
   ]
  },
  {
   "cell_type": "code",
   "execution_count": 5,
   "metadata": {
    "collapsed": false
   },
   "outputs": [
    {
     "ename": "KeyError",
     "evalue": "'Id'",
     "output_type": "error",
     "traceback": [
      "\u001b[0;31m---------------------------------------------------------------------------\u001b[0m",
      "\u001b[0;31mKeyError\u001b[0m                                  Traceback (most recent call last)",
      "\u001b[0;32m<ipython-input-5-3a1aef560b89>\u001b[0m in \u001b[0;36m<module>\u001b[0;34m()\u001b[0m\n\u001b[0;32m----> 1\u001b[0;31m \u001b[0mdf1\u001b[0m\u001b[0;34m[\u001b[0m\u001b[0;34m\"Id\"\u001b[0m\u001b[0;34m]\u001b[0m\u001b[0;34m[\u001b[0m\u001b[0;36m44737\u001b[0m\u001b[0;34m]\u001b[0m\u001b[0;34m\u001b[0m\u001b[0m\n\u001b[0m",
      "\u001b[0;32m//anaconda/lib/python2.7/site-packages/pandas/core/frame.pyc\u001b[0m in \u001b[0;36m__getitem__\u001b[0;34m(self, key)\u001b[0m\n\u001b[1;32m   1995\u001b[0m             \u001b[0;32mreturn\u001b[0m \u001b[0mself\u001b[0m\u001b[0;34m.\u001b[0m\u001b[0m_getitem_multilevel\u001b[0m\u001b[0;34m(\u001b[0m\u001b[0mkey\u001b[0m\u001b[0;34m)\u001b[0m\u001b[0;34m\u001b[0m\u001b[0m\n\u001b[1;32m   1996\u001b[0m         \u001b[0;32melse\u001b[0m\u001b[0;34m:\u001b[0m\u001b[0;34m\u001b[0m\u001b[0m\n\u001b[0;32m-> 1997\u001b[0;31m             \u001b[0;32mreturn\u001b[0m \u001b[0mself\u001b[0m\u001b[0;34m.\u001b[0m\u001b[0m_getitem_column\u001b[0m\u001b[0;34m(\u001b[0m\u001b[0mkey\u001b[0m\u001b[0;34m)\u001b[0m\u001b[0;34m\u001b[0m\u001b[0m\n\u001b[0m\u001b[1;32m   1998\u001b[0m \u001b[0;34m\u001b[0m\u001b[0m\n\u001b[1;32m   1999\u001b[0m     \u001b[0;32mdef\u001b[0m \u001b[0m_getitem_column\u001b[0m\u001b[0;34m(\u001b[0m\u001b[0mself\u001b[0m\u001b[0;34m,\u001b[0m \u001b[0mkey\u001b[0m\u001b[0;34m)\u001b[0m\u001b[0;34m:\u001b[0m\u001b[0;34m\u001b[0m\u001b[0m\n",
      "\u001b[0;32m//anaconda/lib/python2.7/site-packages/pandas/core/frame.pyc\u001b[0m in \u001b[0;36m_getitem_column\u001b[0;34m(self, key)\u001b[0m\n\u001b[1;32m   2002\u001b[0m         \u001b[0;31m# get column\u001b[0m\u001b[0;34m\u001b[0m\u001b[0;34m\u001b[0m\u001b[0m\n\u001b[1;32m   2003\u001b[0m         \u001b[0;32mif\u001b[0m \u001b[0mself\u001b[0m\u001b[0;34m.\u001b[0m\u001b[0mcolumns\u001b[0m\u001b[0;34m.\u001b[0m\u001b[0mis_unique\u001b[0m\u001b[0;34m:\u001b[0m\u001b[0;34m\u001b[0m\u001b[0m\n\u001b[0;32m-> 2004\u001b[0;31m             \u001b[0;32mreturn\u001b[0m \u001b[0mself\u001b[0m\u001b[0;34m.\u001b[0m\u001b[0m_get_item_cache\u001b[0m\u001b[0;34m(\u001b[0m\u001b[0mkey\u001b[0m\u001b[0;34m)\u001b[0m\u001b[0;34m\u001b[0m\u001b[0m\n\u001b[0m\u001b[1;32m   2005\u001b[0m \u001b[0;34m\u001b[0m\u001b[0m\n\u001b[1;32m   2006\u001b[0m         \u001b[0;31m# duplicate columns & possible reduce dimensionality\u001b[0m\u001b[0;34m\u001b[0m\u001b[0;34m\u001b[0m\u001b[0m\n",
      "\u001b[0;32m//anaconda/lib/python2.7/site-packages/pandas/core/generic.pyc\u001b[0m in \u001b[0;36m_get_item_cache\u001b[0;34m(self, item)\u001b[0m\n\u001b[1;32m   1348\u001b[0m         \u001b[0mres\u001b[0m \u001b[0;34m=\u001b[0m \u001b[0mcache\u001b[0m\u001b[0;34m.\u001b[0m\u001b[0mget\u001b[0m\u001b[0;34m(\u001b[0m\u001b[0mitem\u001b[0m\u001b[0;34m)\u001b[0m\u001b[0;34m\u001b[0m\u001b[0m\n\u001b[1;32m   1349\u001b[0m         \u001b[0;32mif\u001b[0m \u001b[0mres\u001b[0m \u001b[0;32mis\u001b[0m \u001b[0mNone\u001b[0m\u001b[0;34m:\u001b[0m\u001b[0;34m\u001b[0m\u001b[0m\n\u001b[0;32m-> 1350\u001b[0;31m             \u001b[0mvalues\u001b[0m \u001b[0;34m=\u001b[0m \u001b[0mself\u001b[0m\u001b[0;34m.\u001b[0m\u001b[0m_data\u001b[0m\u001b[0;34m.\u001b[0m\u001b[0mget\u001b[0m\u001b[0;34m(\u001b[0m\u001b[0mitem\u001b[0m\u001b[0;34m)\u001b[0m\u001b[0;34m\u001b[0m\u001b[0m\n\u001b[0m\u001b[1;32m   1351\u001b[0m             \u001b[0mres\u001b[0m \u001b[0;34m=\u001b[0m \u001b[0mself\u001b[0m\u001b[0;34m.\u001b[0m\u001b[0m_box_item_values\u001b[0m\u001b[0;34m(\u001b[0m\u001b[0mitem\u001b[0m\u001b[0;34m,\u001b[0m \u001b[0mvalues\u001b[0m\u001b[0;34m)\u001b[0m\u001b[0;34m\u001b[0m\u001b[0m\n\u001b[1;32m   1352\u001b[0m             \u001b[0mcache\u001b[0m\u001b[0;34m[\u001b[0m\u001b[0mitem\u001b[0m\u001b[0;34m]\u001b[0m \u001b[0;34m=\u001b[0m \u001b[0mres\u001b[0m\u001b[0;34m\u001b[0m\u001b[0m\n",
      "\u001b[0;32m//anaconda/lib/python2.7/site-packages/pandas/core/internals.pyc\u001b[0m in \u001b[0;36mget\u001b[0;34m(self, item, fastpath)\u001b[0m\n\u001b[1;32m   3288\u001b[0m \u001b[0;34m\u001b[0m\u001b[0m\n\u001b[1;32m   3289\u001b[0m             \u001b[0;32mif\u001b[0m \u001b[0;32mnot\u001b[0m \u001b[0misnull\u001b[0m\u001b[0;34m(\u001b[0m\u001b[0mitem\u001b[0m\u001b[0;34m)\u001b[0m\u001b[0;34m:\u001b[0m\u001b[0;34m\u001b[0m\u001b[0m\n\u001b[0;32m-> 3290\u001b[0;31m                 \u001b[0mloc\u001b[0m \u001b[0;34m=\u001b[0m \u001b[0mself\u001b[0m\u001b[0;34m.\u001b[0m\u001b[0mitems\u001b[0m\u001b[0;34m.\u001b[0m\u001b[0mget_loc\u001b[0m\u001b[0;34m(\u001b[0m\u001b[0mitem\u001b[0m\u001b[0;34m)\u001b[0m\u001b[0;34m\u001b[0m\u001b[0m\n\u001b[0m\u001b[1;32m   3291\u001b[0m             \u001b[0;32melse\u001b[0m\u001b[0;34m:\u001b[0m\u001b[0;34m\u001b[0m\u001b[0m\n\u001b[1;32m   3292\u001b[0m                 \u001b[0mindexer\u001b[0m \u001b[0;34m=\u001b[0m \u001b[0mnp\u001b[0m\u001b[0;34m.\u001b[0m\u001b[0marange\u001b[0m\u001b[0;34m(\u001b[0m\u001b[0mlen\u001b[0m\u001b[0;34m(\u001b[0m\u001b[0mself\u001b[0m\u001b[0;34m.\u001b[0m\u001b[0mitems\u001b[0m\u001b[0;34m)\u001b[0m\u001b[0;34m)\u001b[0m\u001b[0;34m[\u001b[0m\u001b[0misnull\u001b[0m\u001b[0;34m(\u001b[0m\u001b[0mself\u001b[0m\u001b[0;34m.\u001b[0m\u001b[0mitems\u001b[0m\u001b[0;34m)\u001b[0m\u001b[0;34m]\u001b[0m\u001b[0;34m\u001b[0m\u001b[0m\n",
      "\u001b[0;32m//anaconda/lib/python2.7/site-packages/pandas/indexes/base.pyc\u001b[0m in \u001b[0;36mget_loc\u001b[0;34m(self, key, method, tolerance)\u001b[0m\n\u001b[1;32m   1945\u001b[0m                 \u001b[0;32mreturn\u001b[0m \u001b[0mself\u001b[0m\u001b[0;34m.\u001b[0m\u001b[0m_engine\u001b[0m\u001b[0;34m.\u001b[0m\u001b[0mget_loc\u001b[0m\u001b[0;34m(\u001b[0m\u001b[0mkey\u001b[0m\u001b[0;34m)\u001b[0m\u001b[0;34m\u001b[0m\u001b[0m\n\u001b[1;32m   1946\u001b[0m             \u001b[0;32mexcept\u001b[0m \u001b[0mKeyError\u001b[0m\u001b[0;34m:\u001b[0m\u001b[0;34m\u001b[0m\u001b[0m\n\u001b[0;32m-> 1947\u001b[0;31m                 \u001b[0;32mreturn\u001b[0m \u001b[0mself\u001b[0m\u001b[0;34m.\u001b[0m\u001b[0m_engine\u001b[0m\u001b[0;34m.\u001b[0m\u001b[0mget_loc\u001b[0m\u001b[0;34m(\u001b[0m\u001b[0mself\u001b[0m\u001b[0;34m.\u001b[0m\u001b[0m_maybe_cast_indexer\u001b[0m\u001b[0;34m(\u001b[0m\u001b[0mkey\u001b[0m\u001b[0;34m)\u001b[0m\u001b[0;34m)\u001b[0m\u001b[0;34m\u001b[0m\u001b[0m\n\u001b[0m\u001b[1;32m   1948\u001b[0m \u001b[0;34m\u001b[0m\u001b[0m\n\u001b[1;32m   1949\u001b[0m         \u001b[0mindexer\u001b[0m \u001b[0;34m=\u001b[0m \u001b[0mself\u001b[0m\u001b[0;34m.\u001b[0m\u001b[0mget_indexer\u001b[0m\u001b[0;34m(\u001b[0m\u001b[0;34m[\u001b[0m\u001b[0mkey\u001b[0m\u001b[0;34m]\u001b[0m\u001b[0;34m,\u001b[0m \u001b[0mmethod\u001b[0m\u001b[0;34m=\u001b[0m\u001b[0mmethod\u001b[0m\u001b[0;34m,\u001b[0m \u001b[0mtolerance\u001b[0m\u001b[0;34m=\u001b[0m\u001b[0mtolerance\u001b[0m\u001b[0;34m)\u001b[0m\u001b[0;34m\u001b[0m\u001b[0m\n",
      "\u001b[0;32mpandas/index.pyx\u001b[0m in \u001b[0;36mpandas.index.IndexEngine.get_loc (pandas/index.c:4154)\u001b[0;34m()\u001b[0m\n",
      "\u001b[0;32mpandas/index.pyx\u001b[0m in \u001b[0;36mpandas.index.IndexEngine.get_loc (pandas/index.c:4018)\u001b[0;34m()\u001b[0m\n",
      "\u001b[0;32mpandas/hashtable.pyx\u001b[0m in \u001b[0;36mpandas.hashtable.PyObjectHashTable.get_item (pandas/hashtable.c:12368)\u001b[0;34m()\u001b[0m\n",
      "\u001b[0;32mpandas/hashtable.pyx\u001b[0m in \u001b[0;36mpandas.hashtable.PyObjectHashTable.get_item (pandas/hashtable.c:12322)\u001b[0;34m()\u001b[0m\n",
      "\u001b[0;31mKeyError\u001b[0m: 'Id'"
     ]
    }
   ],
   "source": [
    "df1[\"Id\"][44737]"
   ]
  },
  {
   "cell_type": "code",
   "execution_count": 4,
   "metadata": {
    "collapsed": false,
    "scrolled": true
   },
   "outputs": [
    {
     "name": "stderr",
     "output_type": "stream",
     "text": [
      "//anaconda/lib/python2.7/site-packages/pandas/core/indexing.py:465: SettingWithCopyWarning: \n",
      "A value is trying to be set on a copy of a slice from a DataFrame.\n",
      "Try using .loc[row_indexer,col_indexer] = value instead\n",
      "\n",
      "See the caveats in the documentation: http://pandas.pydata.org/pandas-docs/stable/indexing.html#indexing-view-versus-copy\n",
      "  self.obj[item] = s\n"
     ]
    }
   ],
   "source": [
    "#change data type of non-Text features from string to integer\n",
    "df1.loc[:, 0:3] = df1.iloc[:, 0:3].apply(pd.to_numeric)"
   ]
  },
  {
   "cell_type": "code",
   "execution_count": 5,
   "metadata": {
    "collapsed": false
   },
   "outputs": [],
   "source": [
    "#include reviews that have more than 10 helpfulness data point only\n",
    "df1 = df1[(df1.HelpfulnessDenominator > 10)]"
   ]
  },
  {
   "cell_type": "code",
   "execution_count": 6,
   "metadata": {
    "collapsed": false
   },
   "outputs": [
    {
     "name": "stdout",
     "output_type": "stream",
     "text": [
      "(21463,)\n"
     ]
    }
   ],
   "source": [
    "print df1['Score'].shape"
   ]
  },
  {
   "cell_type": "markdown",
   "metadata": {},
   "source": [
    "#### Notes\n",
    "I have only included reviews that have more than 10 votes from users on whether the review was helpful or not. With this filter, the dataset is significantly reduce from 560,000+ reviews to 21,463 reviews."
   ]
  },
  {
   "cell_type": "markdown",
   "metadata": {},
   "source": [
    "## Clean the Data"
   ]
  },
  {
   "cell_type": "code",
   "execution_count": 7,
   "metadata": {
    "collapsed": false
   },
   "outputs": [
    {
     "name": "stdout",
     "output_type": "stream",
     "text": [
      "HelpfulnessNumerator      0\n",
      "HelpfulnessDenominator    0\n",
      "Score                     0\n",
      "Text                      0\n",
      "dtype: int64\n"
     ]
    }
   ],
   "source": [
    "#check for missing values\n",
    "print df1.isnull().sum()"
   ]
  },
  {
   "cell_type": "code",
   "execution_count": 8,
   "metadata": {
    "collapsed": false
   },
   "outputs": [
    {
     "data": {
      "text/plain": [
       "Id\n",
       "33     mccann's instant oatmeal is great if you must ...\n",
       "34     this is a good instant oatmeal from the best o...\n",
       "83     i know the product title says molecular gastro...\n",
       "159    <span class=\"tiny\"> length:: 0:26 mins<br /><b...\n",
       "288    this is a fantastic product, and i wish it was...\n",
       "325    so we cancelled the order.  it was cancelled w...\n",
       "382    these condiments are overpriced and terrible. ...\n",
       "523    i first discovered kettle chips with sea salt ...\n",
       "524    you don't need salt to hide the taste of potat...\n",
       "525    these potato chips are excellent.there are no ...\n",
       "Name: Text, dtype: object"
      ]
     },
     "execution_count": 8,
     "metadata": {},
     "output_type": "execute_result"
    }
   ],
   "source": [
    "# convert text to lowercase\n",
    "df1.loc[:, 'Text'] = df1['Text'].str.lower()\n",
    "df1[\"Text\"].head(10)"
   ]
  },
  {
   "cell_type": "code",
   "execution_count": 10,
   "metadata": {
    "collapsed": false
   },
   "outputs": [
    {
     "data": {
      "text/plain": [
       "Id\n",
       "33     mccann's instant oatmeal is great if you must ...\n",
       "34     this is a good instant oatmeal from the best o...\n",
       "83     i know the product title says molecular gastro...\n",
       "159     length:: 0:26 minsthe expiration date is 21 m...\n",
       "Name: Text, dtype: object"
      ]
     },
     "execution_count": 10,
     "metadata": {},
     "output_type": "execute_result"
    }
   ],
   "source": [
    "#remove html tags\n",
    "import bleach\n",
    "df1[\"Text\"] = df1['Text'].apply(lambda x: bleach.clean(x, tags=[], strip=True))\n",
    "df1[\"Text\"].head(4)"
   ]
  },
  {
   "cell_type": "code",
   "execution_count": 17,
   "metadata": {
    "collapsed": false
   },
   "outputs": [],
   "source": [
    "#remove punctuation\n",
    "import unicodedata\n",
    "import sys\n",
    "\n",
    "tbl = dict.fromkeys(i for i in xrange(sys.maxunicode)\n",
    "                      if unicodedata.category(unichr(i)).startswith('P'))\n",
    "def remove_punctuation(text):\n",
    "    return text.translate(tbl)\n",
    "\n",
    "df1['Text']=df1['Text'].apply( lambda x: remove_punctuation(x))\n",
    "df1[\"Text\"].head(4)"
   ]
  },
  {
   "cell_type": "code",
   "execution_count": 25,
   "metadata": {
    "collapsed": false
   },
   "outputs": [
    {
     "data": {
      "text/plain": [
       "(21463,)"
      ]
     },
     "execution_count": 25,
     "metadata": {},
     "output_type": "execute_result"
    }
   ],
   "source": [
    "df1['Score'].shape"
   ]
  },
  {
   "cell_type": "markdown",
   "metadata": {
    "collapsed": false
   },
   "source": [
    "#### Notes\n",
    "I chose not to use the Porter Stemmer method after reviewing other kernels on Kaggle where the method generated less accurate predictions."
   ]
  },
  {
   "cell_type": "markdown",
   "metadata": {},
   "source": [
    "## Exploratory Data Analysis"
   ]
  },
  {
   "cell_type": "markdown",
   "metadata": {},
   "source": [
    "### Create a binary variable \"Helpfulness\""
   ]
  },
  {
   "cell_type": "code",
   "execution_count": 44,
   "metadata": {
    "collapsed": false
   },
   "outputs": [
    {
     "data": {
      "text/html": [
       "<div>\n",
       "<table border=\"1\" class=\"dataframe\">\n",
       "  <thead>\n",
       "    <tr style=\"text-align: right;\">\n",
       "      <th></th>\n",
       "      <th>HelpfulnessNumerator</th>\n",
       "      <th>HelpfulnessDenominator</th>\n",
       "      <th>Score</th>\n",
       "      <th>Text</th>\n",
       "      <th>Helpful</th>\n",
       "    </tr>\n",
       "    <tr>\n",
       "      <th>Id</th>\n",
       "      <th></th>\n",
       "      <th></th>\n",
       "      <th></th>\n",
       "      <th></th>\n",
       "      <th></th>\n",
       "    </tr>\n",
       "  </thead>\n",
       "  <tbody>\n",
       "    <tr>\n",
       "      <th>33</th>\n",
       "      <td>19</td>\n",
       "      <td>19</td>\n",
       "      <td>4</td>\n",
       "      <td>mccanns instant oatmeal is great if you must h...</td>\n",
       "      <td>1</td>\n",
       "    </tr>\n",
       "    <tr>\n",
       "      <th>34</th>\n",
       "      <td>13</td>\n",
       "      <td>13</td>\n",
       "      <td>4</td>\n",
       "      <td>this is a good instant oatmeal from the best o...</td>\n",
       "      <td>1</td>\n",
       "    </tr>\n",
       "    <tr>\n",
       "      <th>83</th>\n",
       "      <td>15</td>\n",
       "      <td>15</td>\n",
       "      <td>5</td>\n",
       "      <td>i know the product title says molecular gastro...</td>\n",
       "      <td>1</td>\n",
       "    </tr>\n",
       "  </tbody>\n",
       "</table>\n",
       "</div>"
      ],
      "text/plain": [
       "    HelpfulnessNumerator  HelpfulnessDenominator  Score  \\\n",
       "Id                                                        \n",
       "33                    19                      19      4   \n",
       "34                    13                      13      4   \n",
       "83                    15                      15      5   \n",
       "\n",
       "                                                 Text  Helpful  \n",
       "Id                                                              \n",
       "33  mccanns instant oatmeal is great if you must h...        1  \n",
       "34  this is a good instant oatmeal from the best o...        1  \n",
       "83  i know the product title says molecular gastro...        1  "
      ]
     },
     "execution_count": 44,
     "metadata": {},
     "output_type": "execute_result"
    }
   ],
   "source": [
    "#transform Helpfulness into a binary variable with 0.50 ratio\n",
    "df1.loc[:, 'Helpful'] = np.where(df1.loc[:, 'HelpfulnessNumerator'] / df1.loc[:, 'HelpfulnessDenominator'] > 0.50, 1, 0)\n",
    "df1.head(3)"
   ]
  },
  {
   "cell_type": "code",
   "execution_count": 45,
   "metadata": {
    "collapsed": false
   },
   "outputs": [
    {
     "data": {
      "text/html": [
       "<div>\n",
       "<table border=\"1\" class=\"dataframe\">\n",
       "  <thead>\n",
       "    <tr style=\"text-align: right;\">\n",
       "      <th></th>\n",
       "      <th>HelpfulnessNumerator</th>\n",
       "      <th>HelpfulnessDenominator</th>\n",
       "      <th>Score</th>\n",
       "      <th>Text</th>\n",
       "    </tr>\n",
       "    <tr>\n",
       "      <th>Helpful</th>\n",
       "      <th></th>\n",
       "      <th></th>\n",
       "      <th></th>\n",
       "      <th></th>\n",
       "    </tr>\n",
       "  </thead>\n",
       "  <tbody>\n",
       "    <tr>\n",
       "      <th>0</th>\n",
       "      <td>4100</td>\n",
       "      <td>4100</td>\n",
       "      <td>4100</td>\n",
       "      <td>4100</td>\n",
       "    </tr>\n",
       "    <tr>\n",
       "      <th>1</th>\n",
       "      <td>17363</td>\n",
       "      <td>17363</td>\n",
       "      <td>17363</td>\n",
       "      <td>17363</td>\n",
       "    </tr>\n",
       "  </tbody>\n",
       "</table>\n",
       "</div>"
      ],
      "text/plain": [
       "         HelpfulnessNumerator  HelpfulnessDenominator  Score   Text\n",
       "Helpful                                                            \n",
       "0                        4100                    4100   4100   4100\n",
       "1                       17363                   17363  17363  17363"
      ]
     },
     "execution_count": 45,
     "metadata": {},
     "output_type": "execute_result"
    }
   ],
   "source": [
    "df1.groupby('Helpful').count()"
   ]
  },
  {
   "cell_type": "code",
   "execution_count": 46,
   "metadata": {
    "collapsed": false
   },
   "outputs": [
    {
     "data": {
      "text/html": [
       "<div>\n",
       "<table border=\"1\" class=\"dataframe\">\n",
       "  <thead>\n",
       "    <tr style=\"text-align: right;\">\n",
       "      <th></th>\n",
       "      <th>HelpfulnessNumerator</th>\n",
       "      <th>HelpfulnessDenominator</th>\n",
       "      <th>Score</th>\n",
       "      <th>Helpful</th>\n",
       "    </tr>\n",
       "  </thead>\n",
       "  <tbody>\n",
       "    <tr>\n",
       "      <th>HelpfulnessNumerator</th>\n",
       "      <td>1.000000</td>\n",
       "      <td>0.975746</td>\n",
       "      <td>0.145338</td>\n",
       "      <td>0.228370</td>\n",
       "    </tr>\n",
       "    <tr>\n",
       "      <th>HelpfulnessDenominator</th>\n",
       "      <td>0.975746</td>\n",
       "      <td>1.000000</td>\n",
       "      <td>0.048775</td>\n",
       "      <td>0.080156</td>\n",
       "    </tr>\n",
       "    <tr>\n",
       "      <th>Score</th>\n",
       "      <td>0.145338</td>\n",
       "      <td>0.048775</td>\n",
       "      <td>1.000000</td>\n",
       "      <td>0.457537</td>\n",
       "    </tr>\n",
       "    <tr>\n",
       "      <th>Helpful</th>\n",
       "      <td>0.228370</td>\n",
       "      <td>0.080156</td>\n",
       "      <td>0.457537</td>\n",
       "      <td>1.000000</td>\n",
       "    </tr>\n",
       "  </tbody>\n",
       "</table>\n",
       "</div>"
      ],
      "text/plain": [
       "                        HelpfulnessNumerator  HelpfulnessDenominator  \\\n",
       "HelpfulnessNumerator                1.000000                0.975746   \n",
       "HelpfulnessDenominator              0.975746                1.000000   \n",
       "Score                               0.145338                0.048775   \n",
       "Helpful                             0.228370                0.080156   \n",
       "\n",
       "                           Score   Helpful  \n",
       "HelpfulnessNumerator    0.145338  0.228370  \n",
       "HelpfulnessDenominator  0.048775  0.080156  \n",
       "Score                   1.000000  0.457537  \n",
       "Helpful                 0.457537  1.000000  "
      ]
     },
     "execution_count": 46,
     "metadata": {},
     "output_type": "execute_result"
    }
   ],
   "source": [
    "df1.corr()"
   ]
  },
  {
   "cell_type": "markdown",
   "metadata": {},
   "source": [
    "### Bag of Words Model"
   ]
  },
  {
   "cell_type": "code",
   "execution_count": 47,
   "metadata": {
    "collapsed": false
   },
   "outputs": [],
   "source": [
    "#make a copy\n",
    "df2 = df1.copy(deep = True)"
   ]
  },
  {
   "cell_type": "code",
   "execution_count": 48,
   "metadata": {
    "collapsed": false
   },
   "outputs": [
    {
     "data": {
      "text/plain": [
       "TfidfVectorizer(analyzer=u'word', binary=False, decode_error=u'strict',\n",
       "        dtype=<type 'numpy.int64'>, encoding=u'utf-8', input=u'content',\n",
       "        lowercase=True, max_df=0.9, max_features=None, min_df=0.1,\n",
       "        ngram_range=(1, 4), norm=u'l2', preprocessor=None, smooth_idf=True,\n",
       "        stop_words='english', strip_accents=None, sublinear_tf=False,\n",
       "        token_pattern=u'(?u)\\\\b\\\\w\\\\w+\\\\b', tokenizer=None, use_idf=True,\n",
       "        vocabulary=None)"
      ]
     },
     "execution_count": 48,
     "metadata": {},
     "output_type": "execute_result"
    }
   ],
   "source": [
    "#tokenize text with Tfidf\n",
    "from sklearn.feature_extraction.text import TfidfVectorizer\n",
    "\n",
    "vectorizer = TfidfVectorizer(min_df = 0.1, max_df=0.9,\n",
    "                             ngram_range=(1, 4), \n",
    "                             stop_words='english')\n",
    "vectorizer.fit(df2['Text'])"
   ]
  },
  {
   "cell_type": "code",
   "execution_count": 49,
   "metadata": {
    "collapsed": true
   },
   "outputs": [],
   "source": [
    "X_train = vectorizer.transform(df2['Text'])\n",
    "vocab = vectorizer.get_feature_names()"
   ]
  },
  {
   "cell_type": "code",
   "execution_count": 54,
   "metadata": {
    "collapsed": false
   },
   "outputs": [
    {
     "data": {
      "text/plain": [
       "[mean: 0.71697, std: 0.01405, params: {'C': 100000, 'class_weight': None},\n",
       " mean: 0.71758, std: 0.01404, params: {'C': 100000, 'class_weight': 'balanced'},\n",
       " mean: 0.71697, std: 0.01405, params: {'C': 10000, 'class_weight': None},\n",
       " mean: 0.71758, std: 0.01404, params: {'C': 10000, 'class_weight': 'balanced'},\n",
       " mean: 0.71697, std: 0.01404, params: {'C': 1000, 'class_weight': None},\n",
       " mean: 0.71757, std: 0.01404, params: {'C': 1000, 'class_weight': 'balanced'},\n",
       " mean: 0.71697, std: 0.01405, params: {'C': 100, 'class_weight': None},\n",
       " mean: 0.71758, std: 0.01404, params: {'C': 100, 'class_weight': 'balanced'},\n",
       " mean: 0.71697, std: 0.01404, params: {'C': 10, 'class_weight': None},\n",
       " mean: 0.71755, std: 0.01405, params: {'C': 10, 'class_weight': 'balanced'},\n",
       " mean: 0.71697, std: 0.01405, params: {'C': 1, 'class_weight': None},\n",
       " mean: 0.71749, std: 0.01407, params: {'C': 1, 'class_weight': 'balanced'},\n",
       " mean: 0.71683, std: 0.01455, params: {'C': 0.1, 'class_weight': None},\n",
       " mean: 0.71708, std: 0.01444, params: {'C': 0.1, 'class_weight': 'balanced'},\n",
       " mean: 0.71251, std: 0.01612, params: {'C': 0.01, 'class_weight': None},\n",
       " mean: 0.71121, std: 0.01547, params: {'C': 0.01, 'class_weight': 'balanced'},\n",
       " mean: 0.70507, std: 0.01789, params: {'C': 0.001, 'class_weight': None},\n",
       " mean: 0.69755, std: 0.01675, params: {'C': 0.001, 'class_weight': 'balanced'},\n",
       " mean: 0.67343, std: 0.01983, params: {'C': 0.0001, 'class_weight': None},\n",
       " mean: 0.69382, std: 0.01701, params: {'C': 0.0001, 'class_weight': 'balanced'}]"
      ]
     },
     "execution_count": 54,
     "metadata": {},
     "output_type": "execute_result"
    }
   ],
   "source": [
    "#find best logistic regression parameters\n",
    "from sklearn import grid_search, cross_validation\n",
    "from sklearn.linear_model import LogisticRegression\n",
    "feature_set = X_train\n",
    "gs = grid_search.GridSearchCV(\n",
    "    estimator=LogisticRegression(),\n",
    "    param_grid={'C': [10**-i for i in range(-5, 5)], 'class_weight': [None, 'balanced']},\n",
    "    cv=cross_validation.StratifiedKFold(df1.Helpful,n_folds=10),\n",
    "    scoring='roc_auc'\n",
    ")\n",
    "\n",
    "\n",
    "gs.fit(X_train, df2.Helpful)\n",
    "gs.grid_scores_"
   ]
  },
  {
   "cell_type": "code",
   "execution_count": 60,
   "metadata": {
    "collapsed": false
   },
   "outputs": [
    {
     "data": {
      "text/plain": [
       "[<matplotlib.lines.Line2D at 0x13c765c50>]"
      ]
     },
     "execution_count": 60,
     "metadata": {},
     "output_type": "execute_result"
    },
    {
     "data": {
      "image/png": "[encoded data removed]",
      "text/plain": [
       "<matplotlib.figure.Figure at 0x143b76350>"
      ]
     },
     "metadata": {},
     "output_type": "display_data"
    }
   ],
   "source": [
    "#plot ROC/AUC curve\n",
    "from sklearn.metrics import roc_auc_score, roc_curve\n",
    "actuals = gs.predict(feature_set) \n",
    "probas = gs.predict_proba(feature_set)\n",
    "plt.plot(roc_curve(df2[['Helpful']], probas[:,1])[0], roc_curve(df2[['Helpful']], probas[:,1])[1])"
   ]
  },
  {
   "cell_type": "code",
   "execution_count": 61,
   "metadata": {
    "collapsed": false
   },
   "outputs": [
    {
     "data": {
      "text/plain": [
       "0.72117095786807661"
      ]
     },
     "execution_count": 61,
     "metadata": {},
     "output_type": "execute_result"
    }
   ],
   "source": [
    "# ROC/AUC score\n",
    "y_score = probas\n",
    "test2 = np.array(list(df2.Helpful))\n",
    "test2 = test2.reshape(21463,1)\n",
    "y_true = test2\n",
    "roc_auc_score(y_true, y_score[:,1].T)"
   ]
  },
  {
   "cell_type": "markdown",
   "metadata": {},
   "source": [
    "#### Notes\n",
    "The Bag of Words model performs poorly with only 72% accuracy."
   ]
  },
  {
   "cell_type": "markdown",
   "metadata": {},
   "source": [
    "## K-Means Clustering of Reviews to select Top 10 words per Cluster"
   ]
  },
  {
   "cell_type": "markdown",
   "metadata": {},
   "source": [
    "Hypothesis: There's a natural clustering to review vocabulary. I can use the most descriptive clusters to simplify the model."
   ]
  },
  {
   "cell_type": "code",
   "execution_count": 62,
   "metadata": {
    "collapsed": false
   },
   "outputs": [],
   "source": [
    "#Apply TfidfVectorizer to review text\n",
    "from sklearn.feature_extraction.text import TfidfVectorizer\n",
    "from sklearn.cluster import KMeans\n",
    "from sklearn import metrics"
   ]
  },
  {
   "cell_type": "code",
   "execution_count": 63,
   "metadata": {
    "collapsed": false
   },
   "outputs": [],
   "source": [
    "model = KMeans(n_clusters=4, init='k-means++', max_iter=100, n_init=1,random_state=5)"
   ]
  },
  {
   "cell_type": "code",
   "execution_count": 64,
   "metadata": {
    "collapsed": false
   },
   "outputs": [
    {
     "data": {
      "text/plain": [
       "TfidfVectorizer(analyzer=u'word', binary=False, decode_error=u'strict',\n",
       "        dtype=<type 'numpy.int64'>, encoding=u'utf-8', input=u'content',\n",
       "        lowercase=True, max_df=0.95, max_features=None, min_df=0.05,\n",
       "        ngram_range=(1, 2), norm=u'l2', preprocessor=None, smooth_idf=True,\n",
       "        stop_words='english', strip_accents=None, sublinear_tf=False,\n",
       "        token_pattern=u'(?u)\\\\b\\\\w\\\\w+\\\\b', tokenizer=None, use_idf=True,\n",
       "        vocabulary=None)"
      ]
     },
     "execution_count": 64,
     "metadata": {},
     "output_type": "execute_result"
    }
   ],
   "source": [
    "vectorizer = TfidfVectorizer(min_df = 0.05, max_df=0.95,\n",
    "                             ngram_range=(1, 2), \n",
    "                             stop_words='english')\n",
    "vectorizer.fit(df1['Text'])"
   ]
  },
  {
   "cell_type": "code",
   "execution_count": 65,
   "metadata": {
    "collapsed": false
   },
   "outputs": [],
   "source": [
    "X_train = vectorizer.transform(df1['Text'])\n",
    "vocab = vectorizer.get_feature_names()\n",
    "sse_err = []\n",
    "res = model.fit(X_train)\n",
    "vocab = np.array(vocab)\n",
    "cluster_centers = np.array(res.cluster_centers_)\n",
    "sorted_vals = [res.cluster_centers_[i].argsort() for i in range(0,np.shape(res.cluster_centers_)[0])]\n",
    "words=set()\n",
    "for i in xrange(len(res.cluster_centers_)):\n",
    "    words = words.union(set(vocab[sorted_vals[i][-10:]]))\n",
    "words=list(words)"
   ]
  },
  {
   "cell_type": "code",
   "execution_count": 66,
   "metadata": {
    "collapsed": false
   },
   "outputs": [
    {
     "data": {
      "text/plain": [
       "[u'product',\n",
       " u'good',\n",
       " u'eating',\n",
       " u'dont',\n",
       " u'just',\n",
       " u'taste',\n",
       " u'tea',\n",
       " u'price',\n",
       " u'use',\n",
       " u'coffee',\n",
       " u'diet',\n",
       " u'foods',\n",
       " u'buy',\n",
       " u'ordered',\n",
       " u'flavor',\n",
       " u'eat',\n",
       " u'really',\n",
       " u'box',\n",
       " u'received',\n",
       " u'great',\n",
       " u'natural',\n",
       " u'like',\n",
       " u'ingredients',\n",
       " u'dog',\n",
       " u'shipping',\n",
       " u'sugar',\n",
       " u'food',\n",
       " u'amazon',\n",
       " u'sweet',\n",
       " u'order']"
      ]
     },
     "execution_count": 66,
     "metadata": {},
     "output_type": "execute_result"
    }
   ],
   "source": [
    "words"
   ]
  },
  {
   "cell_type": "code",
   "execution_count": 67,
   "metadata": {
    "collapsed": false
   },
   "outputs": [],
   "source": [
    "#select top 10 words per cluster\n",
    "train_set=X_train[:,[np.argwhere(vocab==i)[0][0] for i in words]]"
   ]
  },
  {
   "cell_type": "code",
   "execution_count": 68,
   "metadata": {
    "collapsed": false
   },
   "outputs": [
    {
     "name": "stdout",
     "output_type": "stream",
     "text": [
      "146\n",
      "30\n"
     ]
    }
   ],
   "source": [
    "print len(vectorizer.vocabulary_)\n",
    "print len(words)\n",
    "print words"
   ]
  },
  {
   "cell_type": "code",
   "execution_count": 71,
   "metadata": {
    "collapsed": false
   },
   "outputs": [
    {
     "data": {
      "text/html": [
       "<div>\n",
       "<table border=\"1\" class=\"dataframe\">\n",
       "  <thead>\n",
       "    <tr style=\"text-align: right;\">\n",
       "      <th></th>\n",
       "      <th>HelpfulnessNumerator</th>\n",
       "      <th>HelpfulnessDenominator</th>\n",
       "      <th>Score</th>\n",
       "      <th>Text</th>\n",
       "      <th>Helpful</th>\n",
       "    </tr>\n",
       "    <tr>\n",
       "      <th>cluster</th>\n",
       "      <th></th>\n",
       "      <th></th>\n",
       "      <th></th>\n",
       "      <th></th>\n",
       "      <th></th>\n",
       "    </tr>\n",
       "  </thead>\n",
       "  <tbody>\n",
       "    <tr>\n",
       "      <th>0</th>\n",
       "      <td>12429</td>\n",
       "      <td>12429</td>\n",
       "      <td>12429</td>\n",
       "      <td>12429</td>\n",
       "      <td>12429</td>\n",
       "    </tr>\n",
       "    <tr>\n",
       "      <th>1</th>\n",
       "      <td>1136</td>\n",
       "      <td>1136</td>\n",
       "      <td>1136</td>\n",
       "      <td>1136</td>\n",
       "      <td>1136</td>\n",
       "    </tr>\n",
       "    <tr>\n",
       "      <th>2</th>\n",
       "      <td>2279</td>\n",
       "      <td>2279</td>\n",
       "      <td>2279</td>\n",
       "      <td>2279</td>\n",
       "      <td>2279</td>\n",
       "    </tr>\n",
       "    <tr>\n",
       "      <th>3</th>\n",
       "      <td>5619</td>\n",
       "      <td>5619</td>\n",
       "      <td>5619</td>\n",
       "      <td>5619</td>\n",
       "      <td>5619</td>\n",
       "    </tr>\n",
       "  </tbody>\n",
       "</table>\n",
       "</div>"
      ],
      "text/plain": [
       "         HelpfulnessNumerator  HelpfulnessDenominator  Score   Text  Helpful\n",
       "cluster                                                                     \n",
       "0                       12429                   12429  12429  12429    12429\n",
       "1                        1136                    1136   1136   1136     1136\n",
       "2                        2279                    2279   2279   2279     2279\n",
       "3                        5619                    5619   5619   5619     5619"
      ]
     },
     "execution_count": 71,
     "metadata": {},
     "output_type": "execute_result"
    }
   ],
   "source": [
    "df1['cluster'] = model.labels_\n",
    "df1.groupby('cluster').count()"
   ]
  },
  {
   "cell_type": "code",
   "execution_count": 72,
   "metadata": {
    "collapsed": false
   },
   "outputs": [
    {
     "data": {
      "text/html": [
       "<div>\n",
       "<table border=\"1\" class=\"dataframe\">\n",
       "  <thead>\n",
       "    <tr style=\"text-align: right;\">\n",
       "      <th></th>\n",
       "      <th>HelpfulnessNumerator</th>\n",
       "      <th>HelpfulnessDenominator</th>\n",
       "      <th>Score</th>\n",
       "      <th>Helpful</th>\n",
       "    </tr>\n",
       "    <tr>\n",
       "      <th>cluster</th>\n",
       "      <th></th>\n",
       "      <th></th>\n",
       "      <th></th>\n",
       "      <th></th>\n",
       "    </tr>\n",
       "  </thead>\n",
       "  <tbody>\n",
       "    <tr>\n",
       "      <th>0</th>\n",
       "      <td>21.769088</td>\n",
       "      <td>26.169040</td>\n",
       "      <td>3.726688</td>\n",
       "      <td>0.832167</td>\n",
       "    </tr>\n",
       "    <tr>\n",
       "      <th>1</th>\n",
       "      <td>19.266725</td>\n",
       "      <td>23.336268</td>\n",
       "      <td>3.412852</td>\n",
       "      <td>0.859155</td>\n",
       "    </tr>\n",
       "    <tr>\n",
       "      <th>2</th>\n",
       "      <td>18.263712</td>\n",
       "      <td>23.078104</td>\n",
       "      <td>3.146556</td>\n",
       "      <td>0.811760</td>\n",
       "    </tr>\n",
       "    <tr>\n",
       "      <th>3</th>\n",
       "      <td>16.743371</td>\n",
       "      <td>22.727532</td>\n",
       "      <td>2.798541</td>\n",
       "      <td>0.746396</td>\n",
       "    </tr>\n",
       "  </tbody>\n",
       "</table>\n",
       "</div>"
      ],
      "text/plain": [
       "         HelpfulnessNumerator  HelpfulnessDenominator     Score   Helpful\n",
       "cluster                                                                  \n",
       "0                   21.769088               26.169040  3.726688  0.832167\n",
       "1                   19.266725               23.336268  3.412852  0.859155\n",
       "2                   18.263712               23.078104  3.146556  0.811760\n",
       "3                   16.743371               22.727532  2.798541  0.746396"
      ]
     },
     "execution_count": 72,
     "metadata": {},
     "output_type": "execute_result"
    }
   ],
   "source": [
    "df1.groupby('cluster').mean()"
   ]
  },
  {
   "cell_type": "code",
   "execution_count": 97,
   "metadata": {
    "collapsed": false
   },
   "outputs": [
    {
     "data": {
      "text/html": [
       "<div>\n",
       "<table border=\"1\" class=\"dataframe\">\n",
       "  <thead>\n",
       "    <tr style=\"text-align: right;\">\n",
       "      <th></th>\n",
       "      <th>HelpfulnessNumerator</th>\n",
       "      <th>HelpfulnessDenominator</th>\n",
       "      <th>Score</th>\n",
       "      <th>Helpful</th>\n",
       "      <th>cluster</th>\n",
       "    </tr>\n",
       "  </thead>\n",
       "  <tbody>\n",
       "    <tr>\n",
       "      <th>HelpfulnessNumerator</th>\n",
       "      <td>1.000000</td>\n",
       "      <td>0.975746</td>\n",
       "      <td>0.145338</td>\n",
       "      <td>0.228370</td>\n",
       "      <td>-0.065908</td>\n",
       "    </tr>\n",
       "    <tr>\n",
       "      <th>HelpfulnessDenominator</th>\n",
       "      <td>0.975746</td>\n",
       "      <td>1.000000</td>\n",
       "      <td>0.048775</td>\n",
       "      <td>0.080156</td>\n",
       "      <td>-0.045438</td>\n",
       "    </tr>\n",
       "    <tr>\n",
       "      <th>Score</th>\n",
       "      <td>0.145338</td>\n",
       "      <td>0.048775</td>\n",
       "      <td>1.000000</td>\n",
       "      <td>0.457537</td>\n",
       "      <td>-0.231141</td>\n",
       "    </tr>\n",
       "    <tr>\n",
       "      <th>Helpful</th>\n",
       "      <td>0.228370</td>\n",
       "      <td>0.080156</td>\n",
       "      <td>0.457537</td>\n",
       "      <td>1.000000</td>\n",
       "      <td>-0.088776</td>\n",
       "    </tr>\n",
       "    <tr>\n",
       "      <th>cluster</th>\n",
       "      <td>-0.065908</td>\n",
       "      <td>-0.045438</td>\n",
       "      <td>-0.231141</td>\n",
       "      <td>-0.088776</td>\n",
       "      <td>1.000000</td>\n",
       "    </tr>\n",
       "  </tbody>\n",
       "</table>\n",
       "</div>"
      ],
      "text/plain": [
       "                        HelpfulnessNumerator  HelpfulnessDenominator  \\\n",
       "HelpfulnessNumerator                1.000000                0.975746   \n",
       "HelpfulnessDenominator              0.975746                1.000000   \n",
       "Score                               0.145338                0.048775   \n",
       "Helpful                             0.228370                0.080156   \n",
       "cluster                            -0.065908               -0.045438   \n",
       "\n",
       "                           Score   Helpful   cluster  \n",
       "HelpfulnessNumerator    0.145338  0.228370 -0.065908  \n",
       "HelpfulnessDenominator  0.048775  0.080156 -0.045438  \n",
       "Score                   1.000000  0.457537 -0.231141  \n",
       "Helpful                 0.457537  1.000000 -0.088776  \n",
       "cluster                -0.231141 -0.088776  1.000000  "
      ]
     },
     "execution_count": 97,
     "metadata": {},
     "output_type": "execute_result"
    }
   ],
   "source": [
    "df1.corr()"
   ]
  },
  {
   "cell_type": "markdown",
   "metadata": {},
   "source": [
    "#### Notes\n",
    "There doesn't seem to be a clear trend to the clusters. I cannot make a silhoute coefficient plot due to computer storage capacity, so I chose 4 clusters. With more clusters, the number of overlapping \"top words\" from each cluster seems to increase. In total there are only 30 \"top words\" instead of 40, because some top words overlapped among clusters. There may be some common words that I should consider removing in further analysis, like \"food\"\" or \"coffee\"."
   ]
  },
  {
   "cell_type": "markdown",
   "metadata": {},
   "source": [
    "## Logistic Regression to Predict Review Helpfulness"
   ]
  },
  {
   "cell_type": "code",
   "execution_count": 74,
   "metadata": {
    "collapsed": false
   },
   "outputs": [
    {
     "name": "stdout",
     "output_type": "stream",
     "text": [
      "(21463, 30)\n"
     ]
    }
   ],
   "source": [
    "print train_set.shape"
   ]
  },
  {
   "cell_type": "code",
   "execution_count": 75,
   "metadata": {
    "collapsed": false
   },
   "outputs": [],
   "source": [
    "#add Score column to top words\n",
    "import scipy as scipy\n",
    "\n",
    "score = np.array(list(df1.Score))\n",
    "score = score.reshape(21463, 1)\n",
    "\n",
    "features = scipy.sparse.hstack((train_set,scipy.sparse.csr_matrix(score)))\n",
    "\n",
    "features = scipy.sparse.csr_matrix(features)"
   ]
  },
  {
   "cell_type": "code",
   "execution_count": 80,
   "metadata": {
    "collapsed": false
   },
   "outputs": [
    {
     "data": {
      "text/plain": [
       "(21463, 31)"
      ]
     },
     "execution_count": 80,
     "metadata": {},
     "output_type": "execute_result"
    }
   ],
   "source": [
    "features.shape"
   ]
  },
  {
   "cell_type": "code",
   "execution_count": 81,
   "metadata": {
    "collapsed": false
   },
   "outputs": [
    {
     "data": {
      "text/plain": [
       "[mean: 0.82438, std: 0.01544, params: {'C': 100000, 'class_weight': None},\n",
       " mean: 0.82442, std: 0.01520, params: {'C': 100000, 'class_weight': 'balanced'},\n",
       " mean: 0.82438, std: 0.01544, params: {'C': 10000, 'class_weight': None},\n",
       " mean: 0.82442, std: 0.01520, params: {'C': 10000, 'class_weight': 'balanced'},\n",
       " mean: 0.82438, std: 0.01544, params: {'C': 1000, 'class_weight': None},\n",
       " mean: 0.82442, std: 0.01521, params: {'C': 1000, 'class_weight': 'balanced'},\n",
       " mean: 0.82438, std: 0.01544, params: {'C': 100, 'class_weight': None},\n",
       " mean: 0.82442, std: 0.01521, params: {'C': 100, 'class_weight': 'balanced'},\n",
       " mean: 0.82436, std: 0.01543, params: {'C': 10, 'class_weight': None},\n",
       " mean: 0.82441, std: 0.01522, params: {'C': 10, 'class_weight': 'balanced'},\n",
       " mean: 0.82420, std: 0.01546, params: {'C': 1, 'class_weight': None},\n",
       " mean: 0.82437, std: 0.01522, params: {'C': 1, 'class_weight': 'balanced'},\n",
       " mean: 0.82328, std: 0.01568, params: {'C': 0.1, 'class_weight': None},\n",
       " mean: 0.82377, std: 0.01539, params: {'C': 0.1, 'class_weight': 'balanced'},\n",
       " mean: 0.82191, std: 0.01558, params: {'C': 0.01, 'class_weight': None},\n",
       " mean: 0.82103, std: 0.01529, params: {'C': 0.01, 'class_weight': 'balanced'},\n",
       " mean: 0.81840, std: 0.01547, params: {'C': 0.001, 'class_weight': None},\n",
       " mean: 0.80779, std: 0.01612, params: {'C': 0.001, 'class_weight': 'balanced'},\n",
       " mean: 0.82005, std: 0.01647, params: {'C': 0.0001, 'class_weight': None},\n",
       " mean: 0.80304, std: 0.01645, params: {'C': 0.0001, 'class_weight': 'balanced'}]"
      ]
     },
     "execution_count": 81,
     "metadata": {},
     "output_type": "execute_result"
    }
   ],
   "source": [
    "#find best logistic regression parameters\n",
    "from sklearn import grid_search, cross_validation\n",
    "from sklearn.linear_model import LogisticRegression\n",
    "feature_set = features\n",
    "gs = grid_search.GridSearchCV(\n",
    "    estimator=LogisticRegression(),\n",
    "    param_grid={'C': [10**-i for i in range(-5, 5)], 'class_weight': [None, 'balanced']},\n",
    "    cv=cross_validation.StratifiedKFold(df1.Helpful,n_folds=10),\n",
    "    scoring='roc_auc'\n",
    ")\n",
    "\n",
    "\n",
    "gs.fit(features, df1.Helpful)\n",
    "gs.grid_scores_"
   ]
  },
  {
   "cell_type": "code",
   "execution_count": 82,
   "metadata": {
    "collapsed": false
   },
   "outputs": [
    {
     "name": "stdout",
     "output_type": "stream",
     "text": [
      "LogisticRegression(C=100000, class_weight='balanced', dual=False,\n",
      "          fit_intercept=True, intercept_scaling=1, max_iter=100,\n",
      "          multi_class='ovr', n_jobs=1, penalty='l2', random_state=None,\n",
      "          solver='liblinear', tol=0.0001, verbose=0, warm_start=False)\n"
     ]
    }
   ],
   "source": [
    "print gs.best_estimator_"
   ]
  },
  {
   "cell_type": "code",
   "execution_count": 83,
   "metadata": {
    "collapsed": false
   },
   "outputs": [],
   "source": [
    "y_pred = gs.predict(feature_set)"
   ]
  },
  {
   "cell_type": "code",
   "execution_count": 84,
   "metadata": {
    "collapsed": false
   },
   "outputs": [
    {
     "name": "stdout",
     "output_type": "stream",
     "text": [
      "[[-0.01635048 -0.05112683 -0.13767222 -0.07921834  0.15387005  0.54744671\n",
      "   0.41523978  1.30989353  0.84731167  1.21244747  0.82515766  0.62386485\n",
      "   0.0259244   0.60505512  1.50019033 -0.05077692  0.96736664  0.50413388\n",
      "   0.27758878  1.29099849  0.72795271 -0.13692833  0.87533361  0.47230123\n",
      "   0.63551493  1.22613997  1.24989992  0.81675697  0.03172085 -0.0581862\n",
      "   0.78162312]]\n",
      "[-2.62611095]\n"
     ]
    }
   ],
   "source": [
    "# Coefficients represent the log-odds\n",
    "print gs.best_estimator_.coef_\n",
    "print gs.best_estimator_.intercept_"
   ]
  },
  {
   "cell_type": "code",
   "execution_count": 85,
   "metadata": {
    "collapsed": false
   },
   "outputs": [
    {
     "name": "stdout",
     "output_type": "stream",
     "text": [
      "0.748637189582\n"
     ]
    }
   ],
   "source": [
    "print gs.best_estimator_.score(feature_set, df1.Helpful)"
   ]
  },
  {
   "cell_type": "code",
   "execution_count": 86,
   "metadata": {
    "collapsed": false
   },
   "outputs": [
    {
     "data": {
      "text/plain": [
       "[<matplotlib.lines.Line2D at 0x16b6d7050>]"
      ]
     },
     "execution_count": 86,
     "metadata": {},
     "output_type": "execute_result"
    },
    {
     "data": {
      "image/png": "[encoded data removed]",
      "text/plain": [
       "<matplotlib.figure.Figure at 0x1419c9a50>"
      ]
     },
     "metadata": {},
     "output_type": "display_data"
    }
   ],
   "source": [
    "#roc curve\n",
    "from sklearn.metrics import roc_auc_score, roc_curve\n",
    "actuals = gs.predict(feature_set) \n",
    "probas = gs.predict_proba(feature_set)\n",
    "plt.plot(roc_curve(df1[['Helpful']], probas[:,1])[0], roc_curve(df1[['Helpful']], probas[:,1])[1])"
   ]
  },
  {
   "cell_type": "code",
   "execution_count": 87,
   "metadata": {
    "collapsed": false
   },
   "outputs": [
    {
     "data": {
      "text/plain": [
       "0.82689467932230443"
      ]
     },
     "execution_count": 87,
     "metadata": {},
     "output_type": "execute_result"
    }
   ],
   "source": [
    "#roc auc score\n",
    "y_score = probas\n",
    "test2 = np.array(list(df1.Helpful))\n",
    "test2 = test2.reshape(21463,1)\n",
    "y_true = test2\n",
    "\n",
    "roc_auc_score(y_true, y_score[:,1].T)"
   ]
  },
  {
   "cell_type": "code",
   "execution_count": 88,
   "metadata": {
    "collapsed": false
   },
   "outputs": [
    {
     "name": "stdout",
     "output_type": "stream",
     "text": [
      "Confusion matrix, without normalization\n",
      "[[ 3373   727]\n",
      " [ 4668 12695]]\n",
      "Normalized confusion matrix\n",
      "[[ 0.82  0.18]\n",
      " [ 0.27  0.73]]\n"
     ]
    },
    {
     "data": {
      "image/png": "[encoded data removed]",
      "text/plain": [
       "<matplotlib.figure.Figure at 0x16aee2350>"
      ]
     },
     "metadata": {},
     "output_type": "display_data"
    },
    {
     "data": {
      "image/png": "[encoded data removed]",
      "text/plain": [
       "<matplotlib.figure.Figure at 0x13bd80050>"
      ]
     },
     "metadata": {},
     "output_type": "display_data"
    }
   ],
   "source": [
    "#plot a confusion matrix\n",
    "from sklearn.metrics import confusion_matrix\n",
    "def plot_confusion_matrix(cm, title='Confusion matrix', cmap=plt.cm.Blues):\n",
    "    plt.imshow(cm, interpolation='nearest', cmap=cmap)\n",
    "    plt.title(title)\n",
    "    plt.colorbar()\n",
    "    plt.tight_layout()\n",
    "    plt.ylabel('True Helpfulness')\n",
    "    plt.xlabel('Predicted Helpfulness')\n",
    "\n",
    "\n",
    "# Compute confusion matrix\n",
    "cm = confusion_matrix(y_true, y_pred)\n",
    "np.set_printoptions(precision=2)\n",
    "print('Confusion matrix, without normalization')\n",
    "print(cm)\n",
    "plt.figure()\n",
    "plot_confusion_matrix(cm)\n",
    "\n",
    "# Normalize the confusion matrix by row (i.e by the number of samples\n",
    "# in each class)\n",
    "cm_normalized = cm.astype('float') / cm.sum(axis=1)[:, np.newaxis]\n",
    "print('Normalized confusion matrix')\n",
    "print(cm_normalized)\n",
    "plt.figure()\n",
    "plot_confusion_matrix(cm_normalized, title='Normalized confusion matrix')\n",
    "\n",
    "plt.show()"
   ]
  },
  {
   "cell_type": "code",
   "execution_count": 89,
   "metadata": {
    "collapsed": false
   },
   "outputs": [
    {
     "data": {
      "text/plain": [
       "146"
      ]
     },
     "execution_count": 89,
     "metadata": {},
     "output_type": "execute_result"
    }
   ],
   "source": [
    "print len(vectorizer.vocabulary_)\n",
    "print len(gs.best_estimator_.coef_[0])"
   ]
  },
  {
   "cell_type": "code",
   "execution_count": 91,
   "metadata": {
    "collapsed": false
   },
   "outputs": [
    {
     "data": {
      "text/plain": [
       "[u'product',\n",
       " u'good',\n",
       " u'eating',\n",
       " u'dont',\n",
       " u'just',\n",
       " u'taste',\n",
       " u'tea',\n",
       " u'price',\n",
       " u'use',\n",
       " u'coffee',\n",
       " u'diet',\n",
       " u'foods',\n",
       " u'buy',\n",
       " u'ordered',\n",
       " u'flavor',\n",
       " u'eat',\n",
       " u'really',\n",
       " u'box',\n",
       " u'received',\n",
       " u'great',\n",
       " u'natural',\n",
       " u'like',\n",
       " u'ingredients',\n",
       " u'dog',\n",
       " u'shipping',\n",
       " u'sugar',\n",
       " u'food',\n",
       " u'amazon',\n",
       " u'sweet',\n",
       " u'order']"
      ]
     },
     "execution_count": 91,
     "metadata": {},
     "output_type": "execute_result"
    }
   ],
   "source": [
    "words"
   ]
  },
  {
   "cell_type": "code",
   "execution_count": 92,
   "metadata": {
    "collapsed": false
   },
   "outputs": [
    {
     "data": {
      "text/plain": [
       "30"
      ]
     },
     "execution_count": 92,
     "metadata": {},
     "output_type": "execute_result"
    }
   ],
   "source": [
    "len(words)"
   ]
  },
  {
   "cell_type": "code",
   "execution_count": 93,
   "metadata": {
    "collapsed": false
   },
   "outputs": [
    {
     "data": {
      "text/plain": [
       "array([-0.02, -0.05, -0.14, -0.08,  0.15,  0.55,  0.42,  1.31,  0.85,\n",
       "        1.21,  0.83,  0.62,  0.03,  0.61,  1.5 , -0.05,  0.97,  0.5 ,\n",
       "        0.28,  1.29,  0.73, -0.14,  0.88,  0.47,  0.64,  1.23,  1.25,\n",
       "        0.82,  0.03, -0.06,  0.78])"
      ]
     },
     "execution_count": 93,
     "metadata": {},
     "output_type": "execute_result"
    }
   ],
   "source": [
    "gs.best_estimator_.coef_[0]"
   ]
  },
  {
   "cell_type": "code",
   "execution_count": 94,
   "metadata": {
    "collapsed": true
   },
   "outputs": [],
   "source": [
    "words.extend(['score'])"
   ]
  },
  {
   "cell_type": "code",
   "execution_count": 95,
   "metadata": {
    "collapsed": false
   },
   "outputs": [
    {
     "data": {
      "text/plain": [
       "[(u'product', -0.016350480682740177),\n",
       " (u'good', -0.051126831442664611),\n",
       " (u'eating', -0.13767222465681389),\n",
       " (u'dont', -0.079218340825083347),\n",
       " (u'just', 0.15387005323041639),\n",
       " (u'taste', 0.54744670958555586),\n",
       " (u'tea', 0.41523978144897639),\n",
       " (u'price', 1.3098935293396139),\n",
       " (u'use', 0.84731167363098814),\n",
       " (u'coffee', 1.2124474746181022),\n",
       " (u'diet', 0.8251576575015227),\n",
       " (u'foods', 0.62386484672135356),\n",
       " (u'buy', 0.025924402603314925),\n",
       " (u'ordered', 0.60505512086464919),\n",
       " (u'flavor', 1.5001903336871718),\n",
       " (u'eat', -0.050776921506864345),\n",
       " (u'really', 0.9673666373694898),\n",
       " (u'box', 0.5041338837510384),\n",
       " (u'received', 0.2775887812436299),\n",
       " (u'great', 1.2909984942246358),\n",
       " (u'natural', 0.72795270615576102),\n",
       " (u'like', -0.13692833406250035),\n",
       " (u'ingredients', 0.87533360698575802),\n",
       " (u'dog', 0.472301228695235),\n",
       " (u'shipping', 0.63551492863383474),\n",
       " (u'sugar', 1.2261399698600999),\n",
       " (u'food', 1.2498999225667011),\n",
       " (u'amazon', 0.8167569654032012),\n",
       " (u'sweet', 0.031720852501105921),\n",
       " (u'order', -0.058186197510553393),\n",
       " ('score', 0.78162311955143449)]"
      ]
     },
     "execution_count": 95,
     "metadata": {},
     "output_type": "execute_result"
    }
   ],
   "source": [
    "zip(words,gs.best_estimator_.coef_[0])"
   ]
  },
  {
   "cell_type": "code",
   "execution_count": 96,
   "metadata": {
    "collapsed": false
   },
   "outputs": [
    {
     "data": {
      "text/plain": [
       "[(u'eating', -0.13767222465681389),\n",
       " (u'like', -0.13692833406250035),\n",
       " (u'dont', -0.079218340825083347),\n",
       " (u'order', -0.058186197510553393),\n",
       " (u'good', -0.051126831442664611),\n",
       " (u'eat', -0.050776921506864345),\n",
       " (u'product', -0.016350480682740177),\n",
       " (u'buy', 0.025924402603314925),\n",
       " (u'sweet', 0.031720852501105921),\n",
       " (u'just', 0.15387005323041639),\n",
       " (u'received', 0.2775887812436299),\n",
       " (u'tea', 0.41523978144897639),\n",
       " (u'dog', 0.472301228695235),\n",
       " (u'box', 0.5041338837510384),\n",
       " (u'taste', 0.54744670958555586),\n",
       " (u'ordered', 0.60505512086464919),\n",
       " (u'foods', 0.62386484672135356),\n",
       " (u'shipping', 0.63551492863383474),\n",
       " (u'natural', 0.72795270615576102),\n",
       " ('score', 0.78162311955143449),\n",
       " (u'amazon', 0.8167569654032012),\n",
       " (u'diet', 0.8251576575015227),\n",
       " (u'use', 0.84731167363098814),\n",
       " (u'ingredients', 0.87533360698575802),\n",
       " (u'really', 0.9673666373694898),\n",
       " (u'coffee', 1.2124474746181022),\n",
       " (u'sugar', 1.2261399698600999),\n",
       " (u'food', 1.2498999225667011),\n",
       " (u'great', 1.2909984942246358),\n",
       " (u'price', 1.3098935293396139),\n",
       " (u'flavor', 1.5001903336871718)]"
      ]
     },
     "execution_count": 96,
     "metadata": {},
     "output_type": "execute_result"
    }
   ],
   "source": [
    "sorted(zip(words,gs.best_estimator_.coef_[0]),key=lambda x:x[1])"
   ]
  },
  {
   "cell_type": "markdown",
   "metadata": {},
   "source": [
    "#### Notes\n",
    "There seem to be common words that I should remove from the text in further analysis, like food, product, or Amazon.\n",
    "\n",
    "My model is 82% accurate, which is 10% increase in accuracy over the Bag of Words model."
   ]
  },
  {
   "cell_type": "markdown",
   "metadata": {},
   "source": [
    "## Recommendations\n",
    "Price, Flavor, and Great are the top indicators of a helpful review. This indicates a possible bias among customers to mark a review as helpful when the review is positive. Eating, Like, Don't, Order, Good, and Eat are all negatively correlated with a helpful review, which is difficult to interpret. These may be more common words to remove.\n",
    "\n",
    "Moving forward, I would explore the following methods to improve this analysis:\n",
    "\n",
    "1) I would explore alternative definitions of an \"unhelpful\" review. For example, reviews that are not market as \"helpful\" could be classified as unhelpful. This may help counter consumer-bias if consumers are less likely to mark a negative review as helpful, because it did not enable them to buy the product. This problem requires more domain expertise on consumer behavior.\n",
    "\n",
    "2) I would explore curating a domain-specific dictionary for this project to avoid common food words and Amazon words in reviews.\n",
    "\n",
    "3) I would explore using these findings as a guide for reviewers. For example, when writing a review, Amazon could show \"Tips for writing a helpful review\": \"Describe the flavor of this product\" (\"Flavor\" is the most highly correlated parameter with \"helpfulness\"), \"Describe the value of this product compared to its price\", etc."
   ]
  },
  {
   "cell_type": "markdown",
   "metadata": {},
   "source": [
    "## Acknowedgements\n",
    "I would like to thank Sri Kanajan Dan Grigoras for their invaluable guidance on this project and throughout the course."
   ]
  },
  {
   "cell_type": "code",
   "execution_count": null,
   "metadata": {
    "collapsed": true
   },
   "outputs": [],
   "source": []
  }
 ],
 "metadata": {
  "anaconda-cloud": {},
  "kernelspec": {
   "display_name": "Python [Root]",
   "language": "python",
   "name": "Python [Root]"
  },
  "language_info": {
   "codemirror_mode": {
    "name": "ipython",
    "version": 2
   },
   "file_extension": ".py",
   "mimetype": "text/x-python",
   "name": "python",
   "nbconvert_exporter": "python",
   "pygments_lexer": "ipython2",
   "version": "2.7.11"
  }
 },
 "nbformat": 4,
 "nbformat_minor": 0
}
